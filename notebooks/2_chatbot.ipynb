{
 "cells": [
  {
   "cell_type": "code",
   "execution_count": 1,
   "id": "1c39b012",
   "metadata": {},
   "outputs": [
    {
     "data": {
      "text/plain": [
       "True"
      ]
     },
     "execution_count": 1,
     "metadata": {},
     "output_type": "execute_result"
    }
   ],
   "source": [
    "import os\n",
    "from dotenv import load_dotenv\n",
    "load_dotenv()"
   ]
  },
  {
   "cell_type": "code",
   "execution_count": 94,
   "id": "e0f16c9d",
   "metadata": {},
   "outputs": [],
   "source": [
    "from dotenv import load_dotenv\n",
    "from langchain.prompts import ChatPromptTemplate\n",
    "from langchain_openai import ChatOpenAI\n",
    "from IPython.display import Image, display\n",
    "from typing import TypedDict , Annotated\n",
    "from pydantic import BaseModel , Field\n",
    "from langgraph.graph.message import add_messages\n",
    "from langchain_core.messages import HumanMessage , AIMessage , SystemMessage\n",
    "from langgraph.graph import StateGraph , START , END\n"
   ]
  },
  {
   "cell_type": "code",
   "execution_count": 95,
   "id": "ba115c84",
   "metadata": {},
   "outputs": [],
   "source": [
    "def display_graph(app):\n",
    "    # this function will display the graph of the app\n",
    "    try:\n",
    "        display(Image(app.get_graph().draw_mermaid_png()))\n",
    "    except Exception as e:\n",
    "        # This requires some extra dependencies and is optional\n",
    "        print(e)\n",
    "\n",
    "def stream_output(app, input):\n",
    "    for output in app.stream(input):\n",
    "        for key,value in output.items():\n",
    "            print(f\"here is output from {key}\")\n",
    "            print(\"_______\")\n",
    "            print(value)\n",
    "            print(\"\\n\")"
   ]
  },
  {
   "cell_type": "code",
   "execution_count": 96,
   "id": "4d15b4fe",
   "metadata": {},
   "outputs": [],
   "source": [
    "model = ChatOpenAI(model=\"gpt-4.1-mini\", temperature=0)"
   ]
  },
  {
   "cell_type": "code",
   "execution_count": 97,
   "id": "2dee1b0f",
   "metadata": {},
   "outputs": [
    {
     "data": {
      "text/plain": [
       "AIMessage(content='The capital of France is Paris.', additional_kwargs={'refusal': None}, response_metadata={'token_usage': {'completion_tokens': 7, 'prompt_tokens': 14, 'total_tokens': 21, 'completion_tokens_details': {'accepted_prediction_tokens': 0, 'audio_tokens': 0, 'reasoning_tokens': 0, 'rejected_prediction_tokens': 0}, 'prompt_tokens_details': {'audio_tokens': 0, 'cached_tokens': 0}}, 'model_name': 'gpt-4.1-mini-2025-04-14', 'system_fingerprint': None, 'finish_reason': 'stop', 'logprobs': None}, id='run--39cfef66-9e99-4ad7-88be-375cd2e660dc-0', usage_metadata={'input_tokens': 14, 'output_tokens': 7, 'total_tokens': 21, 'input_token_details': {'audio': 0, 'cache_read': 0}, 'output_token_details': {'audio': 0, 'reasoning': 0}})"
      ]
     },
     "execution_count": 97,
     "metadata": {},
     "output_type": "execute_result"
    }
   ],
   "source": [
    "model.invoke(\"What is the capital of France?\")"
   ]
  },
  {
   "cell_type": "code",
   "execution_count": 98,
   "id": "7a75ae74",
   "metadata": {},
   "outputs": [],
   "source": [
    "#create a state class\n",
    "class GraphState(TypedDict):\n",
    "    messages : Annotated[list, add_messages]"
   ]
  },
  {
   "cell_type": "code",
   "execution_count": null,
   "id": "c63f8abc",
   "metadata": {},
   "outputs": [],
   "source": [
    "def call_llm(state):\n",
    "    messages = state[\"messages\"]\n",
    "    response = model.invoke(messages)\n",
    "    return {\"messages\": [response]}\n"
   ]
  },
  {
   "cell_type": "code",
   "execution_count": 10,
   "id": "36f44a0b",
   "metadata": {},
   "outputs": [],
   "source": [
    "workflow = StateGraph(GraphState)\n",
    "workflow.add_node(\"chatbot\", call_llm)\n",
    "workflow.add_edge(START, \"chatbot\")\n",
    "workflow.add_edge(\"chatbot\", END)\n",
    "\n",
    "app = workflow.compile()\n"
   ]
  },
  {
   "cell_type": "code",
   "execution_count": 21,
   "id": "c1bce350",
   "metadata": {},
   "outputs": [
    {
     "data": {
      "image/png": "[encoded data removed]",
      "text/plain": [
       "<IPython.core.display.Image object>"
      ]
     },
     "metadata": {},
     "output_type": "display_data"
    }
   ],
   "source": [
    "display_graph(app)"
   ]
  },
  {
   "cell_type": "code",
   "execution_count": 23,
   "id": "c2990077",
   "metadata": {},
   "outputs": [],
   "source": [
    "response = app.invoke({\"messages\": [HumanMessage(content=\"What is the capital of France?\")]})"
   ]
  },
  {
   "cell_type": "code",
   "execution_count": 24,
   "id": "cbbb7c8e",
   "metadata": {},
   "outputs": [
    {
     "data": {
      "text/plain": [
       "{'messages': [HumanMessage(content='What is the capital of France?', additional_kwargs={}, response_metadata={}, id='685ab526-3af3-4bd2-b0f2-e4e07c1b5eca'),\n",
       "  AIMessage(content='The capital of France is Paris.', additional_kwargs={'refusal': None}, response_metadata={'token_usage': {'completion_tokens': 7, 'prompt_tokens': 14, 'total_tokens': 21, 'completion_tokens_details': {'accepted_prediction_tokens': 0, 'audio_tokens': 0, 'reasoning_tokens': 0, 'rejected_prediction_tokens': 0}, 'prompt_tokens_details': {'audio_tokens': 0, 'cached_tokens': 0}}, 'model_name': 'gpt-4.1-mini-2025-04-14', 'system_fingerprint': None, 'finish_reason': 'stop', 'logprobs': None}, id='run--61c5f529-33ab-48d2-b4c1-aeed6b82d969-0', usage_metadata={'input_tokens': 14, 'output_tokens': 7, 'total_tokens': 21, 'input_token_details': {'audio': 0, 'cache_read': 0}, 'output_token_details': {'audio': 0, 'reasoning': 0}})]}"
      ]
     },
     "execution_count": 24,
     "metadata": {},
     "output_type": "execute_result"
    }
   ],
   "source": [
    "response"
   ]
  },
  {
   "cell_type": "code",
   "execution_count": 28,
   "id": "22a5ccd6",
   "metadata": {},
   "outputs": [],
   "source": [
    "input = {\"messages\": [HumanMessage(content=\"What is the capital of France?\")]}"
   ]
  },
  {
   "cell_type": "code",
   "execution_count": 29,
   "id": "79345b06",
   "metadata": {},
   "outputs": [
    {
     "name": "stdout",
     "output_type": "stream",
     "text": [
      "here is output from chatbot\n",
      "_______\n",
      "{'messages': [AIMessage(content='The capital of France is Paris.', additional_kwargs={'refusal': None}, response_metadata={'token_usage': {'completion_tokens': 7, 'prompt_tokens': 14, 'total_tokens': 21, 'completion_tokens_details': {'accepted_prediction_tokens': 0, 'audio_tokens': 0, 'reasoning_tokens': 0, 'rejected_prediction_tokens': 0}, 'prompt_tokens_details': {'audio_tokens': 0, 'cached_tokens': 0}}, 'model_name': 'gpt-4.1-mini-2025-04-14', 'system_fingerprint': None, 'finish_reason': 'stop', 'logprobs': None}, id='run--68d8a258-71e9-4782-bb3f-a1b2a4b42b1e-0', usage_metadata={'input_tokens': 14, 'output_tokens': 7, 'total_tokens': 21, 'input_token_details': {'audio': 0, 'cache_read': 0}, 'output_token_details': {'audio': 0, 'reasoning': 0}})]}\n",
      "\n",
      "\n"
     ]
    }
   ],
   "source": [
    "stream_output(app,input)"
   ]
  },
  {
   "cell_type": "markdown",
   "id": "49912ae7",
   "metadata": {},
   "source": [
    "## Using tool"
   ]
  },
  {
   "cell_type": "code",
   "execution_count": 99,
   "id": "91b78fde",
   "metadata": {},
   "outputs": [],
   "source": [
    "from langchain_core.tools import tool\n",
    "from langchain_core.messages import HumanMessage\n",
    "from langgraph.checkpoint.memory import MemorySaver\n",
    "from langgraph.prebuilt import ToolNode\n"
   ]
  },
  {
   "cell_type": "code",
   "execution_count": 100,
   "id": "9fb21950",
   "metadata": {},
   "outputs": [],
   "source": [
    "@tool\n",
    "\n",
    "def weather_search(query: str) -> str:\n",
    "    \"\"\"\n",
    "    Search the web for weather query and return the weather\n",
    "    \"\"\"\n",
    "    return \"It is a sunny day\""
   ]
  },
  {
   "cell_type": "code",
   "execution_count": 101,
   "id": "324de93f",
   "metadata": {},
   "outputs": [
    {
     "data": {
      "text/plain": [
       "'It is a sunny day'"
      ]
     },
     "execution_count": 101,
     "metadata": {},
     "output_type": "execute_result"
    }
   ],
   "source": [
    "weather_search.invoke(\"What is the weather in Tokyo?\")"
   ]
  },
  {
   "cell_type": "code",
   "execution_count": 102,
   "id": "5855e0d5",
   "metadata": {},
   "outputs": [],
   "source": [
    "tools = [weather_search]\n",
    "\n",
    "tool_node = ToolNode(tools)"
   ]
  },
  {
   "cell_type": "code",
   "execution_count": 103,
   "id": "81764d32",
   "metadata": {},
   "outputs": [],
   "source": [
    "llm_with_tool = model.bind_tools(tools)"
   ]
  },
  {
   "cell_type": "code",
   "execution_count": 104,
   "id": "3c132595",
   "metadata": {},
   "outputs": [],
   "source": [
    "def call_model(state: GraphState):\n",
    "    messages = state['messages']\n",
    "    response = llm_with_tool.invoke(messages)\n",
    "    return {\"messages\": [response]}"
   ]
  },
  {
   "cell_type": "code",
   "execution_count": 82,
   "id": "4660673e",
   "metadata": {},
   "outputs": [
    {
     "name": "stdout",
     "output_type": "stream",
     "text": [
      "{'messages': [AIMessage(content='', additional_kwargs={'tool_calls': [{'id': 'call_jmyvp4wjaYwIGzuyo3NeqcIg', 'function': {'arguments': '{\"query\":\"Tokyo\"}', 'name': 'weather_search'}, 'type': 'function'}], 'refusal': None}, response_metadata={'token_usage': {'completion_tokens': 14, 'prompt_tokens': 55, 'total_tokens': 69, 'completion_tokens_details': {'accepted_prediction_tokens': 0, 'audio_tokens': 0, 'reasoning_tokens': 0, 'rejected_prediction_tokens': 0}, 'prompt_tokens_details': {'audio_tokens': 0, 'cached_tokens': 0}}, 'model_name': 'gpt-4.1-mini-2025-04-14', 'system_fingerprint': None, 'finish_reason': 'tool_calls', 'logprobs': None}, id='run--d9d6d21e-7cca-4c76-a9e2-c3732ff4dfae-0', tool_calls=[{'name': 'weather_search', 'args': {'query': 'Tokyo'}, 'id': 'call_jmyvp4wjaYwIGzuyo3NeqcIg', 'type': 'tool_call'}], usage_metadata={'input_tokens': 55, 'output_tokens': 14, 'total_tokens': 69, 'input_token_details': {'audio': 0, 'cache_read': 0}, 'output_token_details': {'audio': 0, 'reasoning': 0}})]}\n"
     ]
    }
   ],
   "source": [
    "response = call_model({\"messages\":[\"what is the weather in Tokyo?\"]})\n",
    "print(response)"
   ]
  },
  {
   "cell_type": "code",
   "execution_count": 83,
   "id": "f8b1377f",
   "metadata": {},
   "outputs": [],
   "source": [
    "last_message = response[\"messages\"][-1]"
   ]
  },
  {
   "cell_type": "code",
   "execution_count": 84,
   "id": "65d0b694",
   "metadata": {},
   "outputs": [
    {
     "data": {
      "text/plain": [
       "[{'name': 'weather_search',\n",
       "  'args': {'query': 'Tokyo'},\n",
       "  'id': 'call_jmyvp4wjaYwIGzuyo3NeqcIg',\n",
       "  'type': 'tool_call'}]"
      ]
     },
     "execution_count": 84,
     "metadata": {},
     "output_type": "execute_result"
    }
   ],
   "source": [
    "last_message.tool_calls"
   ]
  },
  {
   "cell_type": "code",
   "execution_count": 105,
   "id": "8fd314a4",
   "metadata": {},
   "outputs": [],
   "source": [
    "def router(state):\n",
    "\n",
    "    last_message = state[\"messages\"][-1]\n",
    "\n",
    "    if last_message.tool_calls:\n",
    "        return \"tools\"\n",
    "    else:\n",
    "        return END"
   ]
  },
  {
   "cell_type": "code",
   "execution_count": null,
   "id": "f2662874",
   "metadata": {},
   "outputs": [],
   "source": [
    "workflow = StateGraph(GraphState)\n",
    "workflow.add_node(\"call_model\", call_model)\n",
    "workflow.add_node (\"tools\", tool_node)\n",
    "\n",
    "workflow.add_edge(START, \"call_model\")\n",
    "workflow.add_conditional_edges(\n",
    "    \"call_model\",\n",
    "    router,\n",
    "    {\n",
    "        \"tools\": \"tools\",\n",
    "        END : END\n",
    "    }\n",
    ")\n",
    "\n",
    "app = workflow.compile()\n"
   ]
  },
  {
   "cell_type": "code",
   "execution_count": 87,
   "id": "616b9d56",
   "metadata": {},
   "outputs": [
    {
     "data": {
      "text/plain": [
       "{'messages': [HumanMessage(content='what is the weather in Tokyo?', additional_kwargs={}, response_metadata={}, id='070885a8-3366-490f-a742-501a62dd7a17'),\n",
       "  AIMessage(content='', additional_kwargs={'tool_calls': [{'id': 'call_VHVlsOGaMUx9TrR4tFgl4fhF', 'function': {'arguments': '{\"query\":\"Tokyo\"}', 'name': 'weather_search'}, 'type': 'function'}], 'refusal': None}, response_metadata={'token_usage': {'completion_tokens': 14, 'prompt_tokens': 55, 'total_tokens': 69, 'completion_tokens_details': {'accepted_prediction_tokens': 0, 'audio_tokens': 0, 'reasoning_tokens': 0, 'rejected_prediction_tokens': 0}, 'prompt_tokens_details': {'audio_tokens': 0, 'cached_tokens': 0}}, 'model_name': 'gpt-4.1-mini-2025-04-14', 'system_fingerprint': None, 'finish_reason': 'tool_calls', 'logprobs': None}, id='run--557699d8-72be-4144-9f4f-05228748c8cb-0', tool_calls=[{'name': 'weather_search', 'args': {'query': 'Tokyo'}, 'id': 'call_VHVlsOGaMUx9TrR4tFgl4fhF', 'type': 'tool_call'}], usage_metadata={'input_tokens': 55, 'output_tokens': 14, 'total_tokens': 69, 'input_token_details': {'audio': 0, 'cache_read': 0}, 'output_token_details': {'audio': 0, 'reasoning': 0}}),\n",
       "  ToolMessage(content='It is a sunny day', name='weather_search', id='d3e3a8f0-9862-4048-8b2f-0157e100dc6c', tool_call_id='call_VHVlsOGaMUx9TrR4tFgl4fhF')]}"
      ]
     },
     "execution_count": 87,
     "metadata": {},
     "output_type": "execute_result"
    }
   ],
   "source": [
    "app.invoke({\"messages\":[\"what is the weather in Tokyo?\"]})"
   ]
  },
  {
   "cell_type": "code",
   "execution_count": 88,
   "id": "1a96fd2f",
   "metadata": {},
   "outputs": [
    {
     "data": {
      "image/png": "[encoded data removed]",
      "text/plain": [
       "<langgraph.graph.state.CompiledStateGraph object at 0x1110e6ea0>"
      ]
     },
     "metadata": {},
     "output_type": "display_data"
    }
   ],
   "source": [
    "display(app)"
   ]
  },
  {
   "cell_type": "code",
   "execution_count": 106,
   "id": "36ba8df4",
   "metadata": {},
   "outputs": [],
   "source": [
    "workflow = StateGraph(GraphState)\n",
    "workflow.add_node(\"agent\", call_model)\n",
    "workflow.add_node (\"tools\", tool_node)\n",
    "\n",
    "workflow.add_edge(START, \"agent\")\n",
    "workflow.add_conditional_edges(\n",
    "    \"agent\",\n",
    "    router,\n",
    "    {\n",
    "        \"tools\": \"tools\",\n",
    "        END: END\n",
    "    }\n",
    ")\n",
    "\n",
    "workflow.add_edge(\"tools\", \"agent\")\n",
    "\n",
    "app = workflow.compile()"
   ]
  },
  {
   "cell_type": "code",
   "execution_count": 107,
   "id": "88ab8b94",
   "metadata": {},
   "outputs": [
    {
     "data": {
      "image/png": "[encoded data removed]",
      "text/plain": [
       "<langgraph.graph.state.CompiledStateGraph object at 0x1078009b0>"
      ]
     },
     "metadata": {},
     "output_type": "display_data"
    }
   ],
   "source": [
    "display(app)"
   ]
  },
  {
   "cell_type": "code",
   "execution_count": 108,
   "id": "cb00cab7",
   "metadata": {},
   "outputs": [
    {
     "data": {
      "text/plain": [
       "{'messages': [HumanMessage(content='what is the weather in Tokyo?', additional_kwargs={}, response_metadata={}, id='dc6e9a68-f371-4b1c-b6e5-7c16f9e24a87'),\n",
       "  AIMessage(content='', additional_kwargs={'tool_calls': [{'id': 'call_x777p93mWYmaPBO7RnaSdOiP', 'function': {'arguments': '{\"query\":\"Tokyo\"}', 'name': 'weather_search'}, 'type': 'function'}], 'refusal': None}, response_metadata={'token_usage': {'completion_tokens': 14, 'prompt_tokens': 55, 'total_tokens': 69, 'completion_tokens_details': {'accepted_prediction_tokens': 0, 'audio_tokens': 0, 'reasoning_tokens': 0, 'rejected_prediction_tokens': 0}, 'prompt_tokens_details': {'audio_tokens': 0, 'cached_tokens': 0}}, 'model_name': 'gpt-4.1-mini-2025-04-14', 'system_fingerprint': None, 'finish_reason': 'tool_calls', 'logprobs': None}, id='run--a142fbc7-ed8e-4b82-b174-d55310090efa-0', tool_calls=[{'name': 'weather_search', 'args': {'query': 'Tokyo'}, 'id': 'call_x777p93mWYmaPBO7RnaSdOiP', 'type': 'tool_call'}], usage_metadata={'input_tokens': 55, 'output_tokens': 14, 'total_tokens': 69, 'input_token_details': {'audio': 0, 'cache_read': 0}, 'output_token_details': {'audio': 0, 'reasoning': 0}}),\n",
       "  ToolMessage(content='It is a sunny day', name='weather_search', id='f6b12b7e-6589-49c8-927a-fdef1db55fa7', tool_call_id='call_x777p93mWYmaPBO7RnaSdOiP'),\n",
       "  AIMessage(content='The weather in Tokyo is currently sunny.', additional_kwargs={'refusal': None}, response_metadata={'token_usage': {'completion_tokens': 9, 'prompt_tokens': 82, 'total_tokens': 91, 'completion_tokens_details': {'accepted_prediction_tokens': 0, 'audio_tokens': 0, 'reasoning_tokens': 0, 'rejected_prediction_tokens': 0}, 'prompt_tokens_details': {'audio_tokens': 0, 'cached_tokens': 0}}, 'model_name': 'gpt-4.1-mini-2025-04-14', 'system_fingerprint': None, 'finish_reason': 'stop', 'logprobs': None}, id='run--287d58b9-6e85-4d11-8d60-7f4ee4a8445e-0', usage_metadata={'input_tokens': 82, 'output_tokens': 9, 'total_tokens': 91, 'input_token_details': {'audio': 0, 'cache_read': 0}, 'output_token_details': {'audio': 0, 'reasoning': 0}})]}"
      ]
     },
     "execution_count": 108,
     "metadata": {},
     "output_type": "execute_result"
    }
   ],
   "source": [
    "app.invoke({\"messages\":[\"what is the weather in Tokyo?\"]})"
   ]
  },
  {
   "cell_type": "markdown",
   "id": "3fbf1926",
   "metadata": {},
   "source": [
    "## memory in agents"
   ]
  },
  {
   "cell_type": "code",
   "execution_count": 110,
   "id": "c381ecd9",
   "metadata": {},
   "outputs": [],
   "source": [
    "from langgraph.checkpoint.memory import MemorySaver\n",
    "memory = MemorySaver()"
   ]
  },
  {
   "cell_type": "code",
   "execution_count": 111,
   "id": "92720f7f",
   "metadata": {},
   "outputs": [],
   "source": [
    "react_graph_memory = workflow.compile(checkpointer=memory)"
   ]
  },
  {
   "cell_type": "code",
   "execution_count": 112,
   "id": "3296d212",
   "metadata": {},
   "outputs": [],
   "source": [
    "config = {\"configurable\": {\"thread_id\": \"1\"}}"
   ]
  },
  {
   "cell_type": "code",
   "execution_count": 114,
   "id": "3e1239a9",
   "metadata": {},
   "outputs": [],
   "source": [
    "# Specify an input\n",
    "input_message = [HumanMessage(content=\"what is the weather in Tokyo?\")]"
   ]
  },
  {
   "cell_type": "code",
   "execution_count": 117,
   "id": "85ee50cc",
   "metadata": {},
   "outputs": [
    {
     "data": {
      "text/plain": [
       "{'messages': [HumanMessage(content='what is the weather in Tokyo?', additional_kwargs={}, response_metadata={}, id='bc93a10b-ad44-4ac3-b3d0-95be3d58b684'),\n",
       "  AIMessage(content='', additional_kwargs={'tool_calls': [{'id': 'call_FTP0l1oVhovMufvjCMznPpcA', 'function': {'arguments': '{\"query\":\"Tokyo\"}', 'name': 'weather_search'}, 'type': 'function'}], 'refusal': None}, response_metadata={'token_usage': {'completion_tokens': 14, 'prompt_tokens': 55, 'total_tokens': 69, 'completion_tokens_details': {'accepted_prediction_tokens': 0, 'audio_tokens': 0, 'reasoning_tokens': 0, 'rejected_prediction_tokens': 0}, 'prompt_tokens_details': {'audio_tokens': 0, 'cached_tokens': 0}}, 'model_name': 'gpt-4.1-mini-2025-04-14', 'system_fingerprint': None, 'finish_reason': 'tool_calls', 'logprobs': None}, id='run--1654449a-b24c-4cde-9635-6b49d053deb4-0', tool_calls=[{'name': 'weather_search', 'args': {'query': 'Tokyo'}, 'id': 'call_FTP0l1oVhovMufvjCMznPpcA', 'type': 'tool_call'}], usage_metadata={'input_tokens': 55, 'output_tokens': 14, 'total_tokens': 69, 'input_token_details': {'audio': 0, 'cache_read': 0}, 'output_token_details': {'audio': 0, 'reasoning': 0}}),\n",
       "  ToolMessage(content='It is a sunny day', name='weather_search', id='ec17d38a-f7f1-4250-a359-6f27068f55a3', tool_call_id='call_FTP0l1oVhovMufvjCMznPpcA'),\n",
       "  AIMessage(content='The weather in Tokyo is sunny today.', additional_kwargs={'refusal': None}, response_metadata={'token_usage': {'completion_tokens': 9, 'prompt_tokens': 82, 'total_tokens': 91, 'completion_tokens_details': {'accepted_prediction_tokens': 0, 'audio_tokens': 0, 'reasoning_tokens': 0, 'rejected_prediction_tokens': 0}, 'prompt_tokens_details': {'audio_tokens': 0, 'cached_tokens': 0}}, 'model_name': 'gpt-4.1-mini-2025-04-14', 'system_fingerprint': None, 'finish_reason': 'stop', 'logprobs': None}, id='run--3026cdd4-f541-4fdd-844c-bd56ce9c5963-0', usage_metadata={'input_tokens': 82, 'output_tokens': 9, 'total_tokens': 91, 'input_token_details': {'audio': 0, 'cache_read': 0}, 'output_token_details': {'audio': 0, 'reasoning': 0}})]}"
      ]
     },
     "execution_count": 117,
     "metadata": {},
     "output_type": "execute_result"
    }
   ],
   "source": [
    "react_graph_memory.invoke({\"messages\": input_message}, config)"
   ]
  },
  {
   "cell_type": "code",
   "execution_count": null,
   "id": "6d7d9234",
   "metadata": {},
   "outputs": [],
   "source": []
  },
  {
   "cell_type": "code",
   "execution_count": null,
   "id": "d49075f8",
   "metadata": {},
   "outputs": [],
   "source": []
  }
 ],
 "metadata": {
  "kernelspec": {
   "display_name": ".venv",
   "language": "python",
   "name": "python3"
  },
  "language_info": {
   "codemirror_mode": {
    "name": "ipython",
    "version": 3
   },
   "file_extension": ".py",
   "mimetype": "text/x-python",
   "name": "python",
   "nbconvert_exporter": "python",
   "pygments_lexer": "ipython3",
   "version": "3.12.4"
  }
 },
 "nbformat": 4,
 "nbformat_minor": 5
}
