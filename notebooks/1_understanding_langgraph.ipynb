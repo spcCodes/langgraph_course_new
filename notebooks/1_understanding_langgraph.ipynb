{
 "cells": [
  {
   "cell_type": "code",
   "execution_count": 1,
   "metadata": {},
   "outputs": [
    {
     "data": {
      "text/plain": [
       "True"
      ]
     },
     "execution_count": 1,
     "metadata": {},
     "output_type": "execute_result"
    }
   ],
   "source": [
    "import os\n",
    "from dotenv import load_dotenv\n",
    "load_dotenv()"
   ]
  },
  {
   "cell_type": "code",
   "execution_count": 2,
   "metadata": {},
   "outputs": [],
   "source": [
    "from dotenv import load_dotenv\n",
    "from langchain.prompts import ChatPromptTemplate\n",
    "from langchain_openai import ChatOpenAI\n",
    "from IPython.display import Image, display"
   ]
  },
  {
   "cell_type": "code",
   "execution_count": 3,
   "metadata": {},
   "outputs": [],
   "source": [
    "model = ChatOpenAI(model=\"gpt-4.1-mini\", temperature=0)"
   ]
  },
  {
   "cell_type": "code",
   "execution_count": 4,
   "metadata": {},
   "outputs": [],
   "source": [
    "def display_graph(app):\n",
    "    # this function will display the graph of the app\n",
    "    try:\n",
    "        display(Image(app.get_graph().draw_mermaid_png()))\n",
    "    except Exception as e:\n",
    "        # This requires some extra dependencies and is optional\n",
    "        print(e)"
   ]
  },
  {
   "cell_type": "code",
   "execution_count": 5,
   "metadata": {},
   "outputs": [],
   "source": [
    "def stream_output(app, input):\n",
    "    for output in app.stream(input):\n",
    "        for key,value in output.items():\n",
    "            print(f\"here is output from {key}\")\n",
    "            print(\"_______\")\n",
    "            print(value)\n",
    "            print(\"\\n\")"
   ]
  },
  {
   "cell_type": "markdown",
   "metadata": {},
   "source": [
    "## Simple workflow in a graph"
   ]
  },
  {
   "cell_type": "code",
   "execution_count": 6,
   "metadata": {},
   "outputs": [],
   "source": [
    "def greet_user(name):\n",
    "    '''\n",
    "    This function will greet the user with a message\n",
    "    '''\n",
    "    return f\"Hello {name}!\"\n",
    "\n",
    "\n",
    "def convert_to_uppercase(input_word):\n",
    "    '''\n",
    "    This function will convert the input word to uppercase\n",
    "    '''\n",
    "    return input_word.upper()"
   ]
  },
  {
   "cell_type": "code",
   "execution_count": 10,
   "metadata": {},
   "outputs": [
    {
     "data": {
      "text/plain": [
       "'HELLO SUMAN!'"
      ]
     },
     "execution_count": 10,
     "metadata": {},
     "output_type": "execute_result"
    }
   ],
   "source": [
    "from langgraph.graph import Graph\n",
    "\n",
    "workflow = Graph()\n",
    "workflow.add_node(\"User_greetings\" , greet_user)\n",
    "workflow.add_node(\"Uppercase_converter\" , convert_to_uppercase)\n",
    "workflow.add_edge(\"User_greetings\" , \"Uppercase_converter\")\n",
    "workflow.set_entry_point(\"User_greetings\")\n",
    "workflow.set_finish_point(\"Uppercase_converter\")\n",
    "app = workflow.compile()\n",
    "\n",
    "app.invoke(\"Suman\")\n"
   ]
  },
  {
   "cell_type": "code",
   "execution_count": 11,
   "metadata": {},
   "outputs": [
    {
     "data": {
      "image/png": "[encoded data removed]",
      "text/plain": [
       "<IPython.core.display.Image object>"
      ]
     },
     "metadata": {},
     "output_type": "display_data"
    }
   ],
   "source": [
    "display_graph(app)"
   ]
  },
  {
   "cell_type": "code",
   "execution_count": 12,
   "metadata": {},
   "outputs": [
    {
     "name": "stdout",
     "output_type": "stream",
     "text": [
      "here is output from User_greetings\n",
      "_______\n",
      "Hello Suman!\n",
      "\n",
      "\n",
      "here is output from Uppercase_converter\n",
      "_______\n",
      "HELLO SUMAN!\n",
      "\n",
      "\n"
     ]
    }
   ],
   "source": [
    "stream_output(app, 'Suman')"
   ]
  },
  {
   "cell_type": "markdown",
   "metadata": {},
   "source": [
    "## Workflow using a llm and a function"
   ]
  },
  {
   "cell_type": "code",
   "execution_count": 13,
   "metadata": {},
   "outputs": [],
   "source": [
    "def response_from_llm(input_text):\n",
    "    '''\n",
    "    this function return a response from an llm\n",
    "    '''\n",
    "    response = model.invoke(input_text)\n",
    "    return response.content\n",
    "\n",
    "\n",
    "def convert_to_uppercase(input_text):\n",
    "    '''\n",
    "    this function will convert the input text to uppercase\n",
    "    '''\n",
    "    return input_text.upper()\n"
   ]
  },
  {
   "cell_type": "code",
   "execution_count": 14,
   "metadata": {},
   "outputs": [
    {
     "data": {
      "text/plain": [
       "'THE CAPITAL OF FRANCE IS PARIS.'"
      ]
     },
     "execution_count": 14,
     "metadata": {},
     "output_type": "execute_result"
    }
   ],
   "source": [
    "workflow = Graph()\n",
    "workflow.add_node(\"Get_ans_from_llm\" , response_from_llm)\n",
    "workflow.add_node(\"Convert_to_uppercase\" , convert_to_uppercase)\n",
    "workflow.add_edge(\"Get_ans_from_llm\" , \"Convert_to_uppercase\")\n",
    "workflow.set_entry_point(\"Get_ans_from_llm\")\n",
    "workflow.set_finish_point(\"Convert_to_uppercase\")\n",
    "app = workflow.compile()\n",
    "\n",
    "app.invoke(\"What is the capital of France?\")"
   ]
  },
  {
   "cell_type": "code",
   "execution_count": 15,
   "metadata": {},
   "outputs": [
    {
     "data": {
      "text/plain": [
       "'THE FIRST PRESIDENT OF THE UNITED STATES WAS GEORGE WASHINGTON.'"
      ]
     },
     "execution_count": 15,
     "metadata": {},
     "output_type": "execute_result"
    }
   ],
   "source": [
    "app.invoke(\"Who was the first president of the United States?\")"
   ]
  },
  {
   "cell_type": "markdown",
   "metadata": {},
   "source": [
    "# Integrating RAG in workflow"
   ]
  },
  {
   "cell_type": "code",
   "execution_count": 16,
   "metadata": {},
   "outputs": [],
   "source": [
    "from langchain_core.output_parsers import StrOutputParser\n",
    "from langchain_core.prompts import ChatPromptTemplate\n",
    "from langchain_core.runnables import RunnablePassthrough\n",
    "from langchain_community.document_loaders import TextLoader, DirectoryLoader\n",
    "from langchain_community.vectorstores import Chroma\n",
    "from langchain.text_splitter import RecursiveCharacterTextSplitter"
   ]
  },
  {
   "cell_type": "code",
   "execution_count": 20,
   "metadata": {},
   "outputs": [
    {
     "name": "stdout",
     "output_type": "stream",
     "text": [
      "[Document(metadata={'source': '../data/bangaldesh_manufacturing-industry.txt'}, page_content=\"# The Rise of Bangladesh's Manufacturing Industry\\n\\nBangladesh's manufacturing sector has undergone a remarkable transformation over the past few decades, emerging as a key driver of the nation's economic growth. Once primarily dependent on agriculture, Bangladesh has successfully diversified its economy, with manufacturing now contributing approximately 20% to its GDP.\\n\\nThe ready-made garment (RMG) industry stands as the cornerstone of Bangladesh's manufacturing success. Since the 1980s, Bangladesh has become the world's second-largest apparel exporter after China, employing over 4 million workers, predominantly women. This sector accounts for more than 80% of the country's export earnings, demonstrating its crucial economic significance.\\n\\nSeveral factors have fueled this industrial expansion. Low labor costs provided Bangladesh with a competitive advantage in labor-intensive manufacturing. Strategic government policies, including export processing zones, tax incentives, and preferential trade agreements, have attracted significant foreign direct investment. Additionally, improved infrastructure, particularly in power generation and transportation, has enhanced production capabilities.\\n\\nBeyond garments, Bangladesh has achieved diversification into pharmaceuticals, shipbuilding, electronics, and leather goods. The pharmaceutical industry has grown substantially, now meeting 98% of domestic demand while expanding exports to nearly 150 countries. Meanwhile, the shipbuilding sector has gained international recognition for quality small and medium-sized vessels.\\n\\nDespite impressive growth, challenges persist. Infrastructure limitations, particularly unreliable electricity supply and inadequate transportation networks, continue to hamper productivity. Environmental concerns have intensified as industrial expansion often outpaces regulatory oversight. Labor rights and workplace safety remain significant issues, especially following the 2013 Rana Plaza tragedy which prompted industry-wide reforms.\\n\\nLooking ahead, Bangladesh's manufacturing sector is positioning itself for sustainable growth through technological adoption, workforce development, and environmental compliance. The government's Vision 2041 plan emphasizes industrial modernization and diversification, aiming to elevate Bangladesh to developed nation status. With continued investment in innovation, skills development, and infrastructure, Bangladesh's manufacturing industry appears poised for continued expansion and evolution.\\n\")]\n"
     ]
    }
   ],
   "source": [
    "loader=DirectoryLoader(\"../data\",glob=\"./*.txt\",loader_cls=TextLoader)\n",
    "docs=loader.load()\n",
    "print(docs)\n",
    "text_splitter=RecursiveCharacterTextSplitter(\n",
    "    chunk_size=1000,\n",
    "    chunk_overlap=200,\n",
    "    length_function = len\n",
    ")\n",
    "new_docs = text_splitter.split_documents(documents=docs)\n",
    "doc_strings = [doc.page_content for doc in new_docs]"
   ]
  },
  {
   "cell_type": "code",
   "execution_count": 19,
   "metadata": {},
   "outputs": [
    {
     "data": {
      "text/plain": [
       "[\"# The Rise of Bangladesh's Manufacturing Industry\\n\\nBangladesh's manufacturing sector has undergone a remarkable transformation over the past few decades, emerging as a key driver of the nation's economic growth. Once primarily dependent on agriculture, Bangladesh has successfully diversified its economy, with manufacturing now contributing approximately 20% to its GDP.\\n\\nThe ready-made garment (RMG) industry stands as the cornerstone of Bangladesh's manufacturing success. Since the 1980s, Bangladesh has become the world's second-largest apparel exporter after China, employing over 4 million workers, predominantly women. This sector accounts for more than 80% of the country's export earnings, demonstrating its crucial economic significance.\",\n",
       " 'Several factors have fueled this industrial expansion. Low labor costs provided Bangladesh with a competitive advantage in labor-intensive manufacturing. Strategic government policies, including export processing zones, tax incentives, and preferential trade agreements, have attracted significant foreign direct investment. Additionally, improved infrastructure, particularly in power generation and transportation, has enhanced production capabilities.\\n\\nBeyond garments, Bangladesh has achieved diversification into pharmaceuticals, shipbuilding, electronics, and leather goods. The pharmaceutical industry has grown substantially, now meeting 98% of domestic demand while expanding exports to nearly 150 countries. Meanwhile, the shipbuilding sector has gained international recognition for quality small and medium-sized vessels.',\n",
       " \"Despite impressive growth, challenges persist. Infrastructure limitations, particularly unreliable electricity supply and inadequate transportation networks, continue to hamper productivity. Environmental concerns have intensified as industrial expansion often outpaces regulatory oversight. Labor rights and workplace safety remain significant issues, especially following the 2013 Rana Plaza tragedy which prompted industry-wide reforms.\\n\\nLooking ahead, Bangladesh's manufacturing sector is positioning itself for sustainable growth through technological adoption, workforce development, and environmental compliance. The government's Vision 2041 plan emphasizes industrial modernization and diversification, aiming to elevate Bangladesh to developed nation status. With continued investment in innovation, skills development, and infrastructure, Bangladesh's manufacturing industry appears poised for continued expansion and evolution.\"]"
      ]
     },
     "execution_count": 19,
     "metadata": {},
     "output_type": "execute_result"
    }
   ],
   "source": [
    "doc_strings"
   ]
  },
  {
   "cell_type": "code",
   "execution_count": 21,
   "metadata": {},
   "outputs": [],
   "source": [
    "from langchain_openai import OpenAIEmbeddings\n",
    "embeddings = OpenAIEmbeddings()\n",
    "db = Chroma.from_documents(new_docs, embeddings)\n",
    "retriever = db.as_retriever(search_kwargs={\"k\": 3})"
   ]
  },
  {
   "cell_type": "code",
   "execution_count": 22,
   "metadata": {},
   "outputs": [
    {
     "name": "stderr",
     "output_type": "stream",
     "text": [
      "/var/folders/wt/k9xk77m14_scry8y3ldyfjr00000gn/T/ipykernel_60010/1315298168.py:1: LangChainDeprecationWarning: The method `BaseRetriever.get_relevant_documents` was deprecated in langchain-core 0.1.46 and will be removed in 1.0. Use :meth:`~invoke` instead.\n",
      "  retriever.get_relevant_documents(\"tell me about bangaldesh industrial growth\")\n"
     ]
    },
    {
     "data": {
      "text/plain": [
       "[Document(metadata={'source': '../data/bangaldesh_manufacturing-industry.txt'}, page_content=\"Despite impressive growth, challenges persist. Infrastructure limitations, particularly unreliable electricity supply and inadequate transportation networks, continue to hamper productivity. Environmental concerns have intensified as industrial expansion often outpaces regulatory oversight. Labor rights and workplace safety remain significant issues, especially following the 2013 Rana Plaza tragedy which prompted industry-wide reforms.\\n\\nLooking ahead, Bangladesh's manufacturing sector is positioning itself for sustainable growth through technological adoption, workforce development, and environmental compliance. The government's Vision 2041 plan emphasizes industrial modernization and diversification, aiming to elevate Bangladesh to developed nation status. With continued investment in innovation, skills development, and infrastructure, Bangladesh's manufacturing industry appears poised for continued expansion and evolution.\"),\n",
       " Document(metadata={'source': '../data/bangaldesh_manufacturing-industry.txt'}, page_content='Several factors have fueled this industrial expansion. Low labor costs provided Bangladesh with a competitive advantage in labor-intensive manufacturing. Strategic government policies, including export processing zones, tax incentives, and preferential trade agreements, have attracted significant foreign direct investment. Additionally, improved infrastructure, particularly in power generation and transportation, has enhanced production capabilities.\\n\\nBeyond garments, Bangladesh has achieved diversification into pharmaceuticals, shipbuilding, electronics, and leather goods. The pharmaceutical industry has grown substantially, now meeting 98% of domestic demand while expanding exports to nearly 150 countries. Meanwhile, the shipbuilding sector has gained international recognition for quality small and medium-sized vessels.'),\n",
       " Document(metadata={'source': '../data/bangaldesh_manufacturing-industry.txt'}, page_content=\"# The Rise of Bangladesh's Manufacturing Industry\\n\\nBangladesh's manufacturing sector has undergone a remarkable transformation over the past few decades, emerging as a key driver of the nation's economic growth. Once primarily dependent on agriculture, Bangladesh has successfully diversified its economy, with manufacturing now contributing approximately 20% to its GDP.\\n\\nThe ready-made garment (RMG) industry stands as the cornerstone of Bangladesh's manufacturing success. Since the 1980s, Bangladesh has become the world's second-largest apparel exporter after China, employing over 4 million workers, predominantly women. This sector accounts for more than 80% of the country's export earnings, demonstrating its crucial economic significance.\")]"
      ]
     },
     "execution_count": 22,
     "metadata": {},
     "output_type": "execute_result"
    }
   ],
   "source": [
    "retriever.get_relevant_documents(\"tell me about bangaldesh industrial growth\")"
   ]
  },
  {
   "cell_type": "code",
   "execution_count": 27,
   "metadata": {},
   "outputs": [],
   "source": [
    "from langchain_core.output_parsers import StrOutputParser\n",
    "from langchain_core.prompts import ChatPromptTemplate\n",
    "from langchain_core.runnables import RunnablePassthrough , RunnableParallel\n",
    "from langchain.chains import RetrievalQA"
   ]
  },
  {
   "cell_type": "code",
   "execution_count": 28,
   "metadata": {},
   "outputs": [],
   "source": [
    "AgentState ={}\n",
    "AgentState[\"messages\"] = []\n",
    "\n",
    "\n",
    "def extract_topics(state):\n",
    "    messages = state['messages']  ##asssuming state is a dict with messages key\n",
    "    question = messages[-1]   ## Fetching the user question\n",
    "    complete_query = \"Your task is to extract topic from the following query . If the extracted topic is two words or more, the topic should be in the form of 'word1_word2' . If the extracted topic is one word, the topic should be in the form of 'word1' . Following is the user query: \" + question\n",
    "    response = model.invoke(complete_query)\n",
    "    state['messages'].append(response.content)\n",
    "    return state\n",
    "\n",
    "def call_rag(state):\n",
    "    messages = state['messages']\n",
    "    question = messages[0] ## Fetching the user question\n",
    "\n",
    "    template = \"\"\"Answer the question based only on the following context:\n",
    "    {context}\n",
    "    Donot answer anything out of the context, if you dont find the answer in the context, then say \"I don't know\"\n",
    "    Question: {question}\n",
    "    \"\"\"\n",
    "    \n",
    "    prompt = ChatPromptTemplate.from_template(template)\n",
    "\n",
    "    retrieval_chain = (\n",
    "        RunnableParallel({\"context\": retriever, \"question\": RunnablePassthrough()})\n",
    "        | prompt\n",
    "        | model\n",
    "        | StrOutputParser()\n",
    "        )\n",
    "    result = retrieval_chain.invoke(question)\n",
    "    return result\n"
   ]
  },
  {
   "cell_type": "code",
   "execution_count": 30,
   "metadata": {},
   "outputs": [],
   "source": [
    "workflow = Graph()\n",
    "\n",
    "workflow.add_node(\"Extract_topics\", extract_topics)\n",
    "workflow.add_node(\"RAG_call\", call_rag)\n",
    "\n",
    "workflow.add_edge('Extract_topics', 'RAG_call')\n",
    "\n",
    "workflow.set_entry_point(\"Extract_topics\")\n",
    "workflow.set_finish_point(\"RAG_call\")\n",
    "\n",
    "app = workflow.compile()"
   ]
  },
  {
   "cell_type": "code",
   "execution_count": 31,
   "metadata": {},
   "outputs": [
    {
     "data": {
      "image/png": "[encoded data removed]",
      "text/plain": [
       "<IPython.core.display.Image object>"
      ]
     },
     "metadata": {},
     "output_type": "display_data"
    }
   ],
   "source": [
    "display_graph(app)"
   ]
  },
  {
   "cell_type": "code",
   "execution_count": 32,
   "metadata": {},
   "outputs": [
    {
     "name": "stdout",
     "output_type": "stream",
     "text": [
      "Bangladesh's manufacturing sector has experienced remarkable growth over the past few decades, transforming from an agriculture-dependent economy to one where manufacturing contributes about 20% to GDP. The ready-made garment (RMG) industry is central to this success, making Bangladesh the world's second-largest apparel exporter after China and employing over 4 million workers, mostly women. This sector accounts for more than 80% of the country's export earnings.\n",
      "\n",
      "Several factors have fueled this industrial expansion, including low labor costs, strategic government policies such as export processing zones, tax incentives, and preferential trade agreements that have attracted significant foreign direct investment. Improved infrastructure in power generation and transportation has also enhanced production capabilities.\n",
      "\n",
      "Beyond garments, Bangladesh has diversified into pharmaceuticals, shipbuilding, electronics, and leather goods. The pharmaceutical industry now meets 98% of domestic demand and exports to nearly 150 countries, while the shipbuilding sector has gained international recognition for quality vessels.\n",
      "\n",
      "Despite impressive growth, challenges remain, including infrastructure limitations like unreliable electricity and inadequate transportation, environmental concerns due to rapid industrial expansion, and ongoing labor rights and workplace safety issues, especially after the 2013 Rana Plaza tragedy. Looking ahead, Bangladesh aims for sustainable growth through technological adoption, workforce development, environmental compliance, and industrial modernization as outlined in the government's Vision 2041 plan.\n"
     ]
    }
   ],
   "source": [
    "print(app.invoke({\"messages\": [\"tell me about bangaldesh industrial growth\"]}))"
   ]
  },
  {
   "cell_type": "code",
   "execution_count": 33,
   "metadata": {},
   "outputs": [
    {
     "name": "stdout",
     "output_type": "stream",
     "text": [
      "here is output from Extract_topics\n",
      "_______\n",
      "{'messages': ['tell me about bangaldesh industrial growth', 'bangladesh_industrial_growth']}\n",
      "\n",
      "\n",
      "here is output from RAG_call\n",
      "_______\n",
      "Bangladesh's manufacturing sector has experienced remarkable growth over the past few decades, transforming from an agriculture-dependent economy to one where manufacturing contributes about 20% to GDP. The ready-made garment (RMG) industry is central to this success, making Bangladesh the world's second-largest apparel exporter after China and employing over 4 million workers, mostly women. This sector accounts for more than 80% of the country's export earnings.\n",
      "\n",
      "Several factors have fueled this industrial expansion, including low labor costs, strategic government policies such as export processing zones, tax incentives, and preferential trade agreements that attract foreign direct investment. Improved infrastructure in power generation and transportation has also enhanced production capabilities. Beyond garments, Bangladesh has diversified into pharmaceuticals, shipbuilding, electronics, and leather goods, with the pharmaceutical industry meeting 98% of domestic demand and exporting to nearly 150 countries, and the shipbuilding sector gaining international recognition.\n",
      "\n",
      "Despite impressive growth, challenges remain, including infrastructure limitations like unreliable electricity and inadequate transportation, environmental concerns due to rapid industrial expansion, and ongoing labor rights and workplace safety issues, especially after the 2013 Rana Plaza tragedy. Looking forward, Bangladesh aims for sustainable growth through technological adoption, workforce development, environmental compliance, and industrial modernization as outlined in the government's Vision 2041 plan, positioning the country for continued expansion and evolution.\n",
      "\n",
      "\n"
     ]
    }
   ],
   "source": [
    "stream_output(app, {\"messages\": [\"tell me about bangaldesh industrial growth\"]})"
   ]
  },
  {
   "cell_type": "markdown",
   "metadata": {},
   "source": [
    "## Rag + AgentState + conditional edges"
   ]
  },
  {
   "cell_type": "code",
   "execution_count": 32,
   "metadata": {},
   "outputs": [],
   "source": [
    "from typing import TypedDict, Annotated, Sequence\n",
    "import operator\n",
    "from langchain_core.messages import BaseMessage"
   ]
  },
  {
   "cell_type": "code",
   "execution_count": 33,
   "metadata": {},
   "outputs": [],
   "source": [
    "class AgentState(TypedDict):\n",
    "    messages: Annotated[Sequence[BaseMessage], operator.add]"
   ]
  },
  {
   "cell_type": "code",
   "execution_count": 34,
   "metadata": {},
   "outputs": [],
   "source": [
    "from langchain.output_parsers import PydanticOutputParser\n",
    "from pydantic import BaseModel , Field\n",
    "from langchain.prompts import PromptTemplate\n",
    "\n",
    "class TopicSelectionParser(BaseModel):\n",
    "    Topic: str = Field(description='Selected Topic')\n",
    "\n",
    "parser = PydanticOutputParser(pydantic_object=TopicSelectionParser)"
   ]
  },
  {
   "cell_type": "code",
   "execution_count": 68,
   "metadata": {},
   "outputs": [],
   "source": [
    "def topic_selection(state):\n",
    "    print('-> Calling topic selection agent ->')\n",
    "    messages = state['messages']\n",
    "    question = messages[-1]   ## Fetching the user question\n",
    "    \n",
    "    template = \"\"\" Your task is to provide only the topic based on the user query. \\\n",
    "       If the topic is related to bangaldesh, then output 'Bangaldesh' else output 'Not Related'. \\\n",
    "        Following is the user query:   \\\n",
    "        {question} \\\n",
    "        {format_instructions} \n",
    "        \"\"\"\n",
    "    prompt = PromptTemplate(template=template,\n",
    "                            input_variables=[question],\n",
    "                            partial_variables={\"format_instructions\" : parser.get_format_instructions()}\n",
    "                            )\n",
    "    chain = prompt | model | parser\n",
    "\n",
    "    response = chain.invoke({\"question\":question,\"format_instructions\" : parser.get_format_instructions() })\n",
    "    return {\"messages\": [response.Topic]}\n",
    "\n",
    "def call_llm(state):\n",
    "    print('-> Calling LLM agent ->')\n",
    "\n",
    "    messages = state['messages']\n",
    "    question = messages[0] ## Fetching the user question\n",
    "\n",
    "    # Normal LLM call\n",
    "    complete_query = \"Anwer the follow question with you knowledge of the real world. Following is the user question: \" + question\n",
    "    response = model.invoke(complete_query)\n",
    "    return {\"messages\": [response.content]}\n",
    "\n",
    "def call_rag(state):\n",
    "    print('-> Calling RAG agent ->')\n",
    "    messages = state['messages']\n",
    "    question = messages[0] ## Fetching the user question\n",
    "\n",
    "    template = \"\"\"Answer the question based only on the following context:\n",
    "    {context}\n",
    "\n",
    "    Question: {question}\n",
    "    \"\"\"\n",
    "    prompt = ChatPromptTemplate.from_template(template)\n",
    "\n",
    "    retrieval_chain = (\n",
    "        {\"context\": retriever, \"question\": RunnablePassthrough()}\n",
    "        | prompt\n",
    "        | model\n",
    "        | StrOutputParser()\n",
    "        )\n",
    "    result = retrieval_chain.invoke(question)\n",
    "    return  {\"messages\": [result]}\n",
    "\n",
    "def router(state):\n",
    "    print('-> Calling Router agent ->')\n",
    "    \n",
    "    messages = state[\"messages\"]\n",
    "    last_message = messages[-1]\n",
    "    print(last_message)\n",
    "    if ('Bangaldesh' in last_message or 'bangaldesh' in last_message):\n",
    "        return 'RAG Call'\n",
    "    else:\n",
    "        return 'LLM Call'"
   ]
  },
  {
   "cell_type": "code",
   "execution_count": 69,
   "metadata": {},
   "outputs": [],
   "source": [
    "from langgraph.graph import StateGraph,END\n",
    "\n",
    "graph = StateGraph(AgentState) ### StateGraph with AgentState\n",
    "\n",
    "graph.add_node(\"topic_selection\", topic_selection)\n",
    "graph.add_node(\"RAG\", call_rag)\n",
    "graph.add_node(\"LLM\", call_llm)\n",
    "\n",
    "graph.set_entry_point(\"topic_selection\")\n",
    "\n",
    "# conditional edges are controlled by our router\n",
    "graph.add_conditional_edges(\n",
    "    \"topic_selection\",  # where in graph to start\n",
    "    router,  # function to determine which node is called\n",
    "    {\n",
    "        \"RAG Call\": \"RAG\",\n",
    "        \"LLM Call\": \"LLM\",\n",
    "    }\n",
    ")\n",
    "\n",
    "graph.add_edge(\"RAG\", END)\n",
    "graph.add_edge(\"LLM\", END)\n",
    "\n",
    "app = graph.compile()"
   ]
  },
  {
   "cell_type": "code",
   "execution_count": 70,
   "metadata": {},
   "outputs": [
    {
     "data": {
      "image/png": "[encoded data removed]",
      "text/plain": [
       "<IPython.core.display.Image object>"
      ]
     },
     "metadata": {},
     "output_type": "display_data"
    }
   ],
   "source": [
    "display_graph(app)"
   ]
  },
  {
   "cell_type": "code",
   "execution_count": 71,
   "metadata": {},
   "outputs": [
    {
     "name": "stdout",
     "output_type": "stream",
     "text": [
      "-> Calling topic selection agent ->\n",
      "-> Calling Router agent ->\n",
      "Bangaldesh\n",
      "-> Calling RAG agent ->\n"
     ]
    },
    {
     "data": {
      "text/plain": [
       "{'messages': ['tell me about bangaldesh industrial growth',\n",
       "  'Bangaldesh',\n",
       "  \"Bangladesh's manufacturing sector has experienced significant growth over the past few decades, transforming from an economy primarily reliant on agriculture to one where manufacturing contributes approximately 20% to its GDP. The ready-made garment (RMG) industry is a key component of this success, making Bangladesh the world's second-largest apparel exporter after China and employing over 4 million workers, mostly women. This sector accounts for more than 80% of the country's export earnings.\\n\\nSeveral factors have fueled this industrial expansion, including low labor costs, strategic government policies such as export processing zones and tax incentives, and improved infrastructure in power generation and transportation. Additionally, Bangladesh has diversified its manufacturing beyond garments into sectors like pharmaceuticals, shipbuilding, electronics, and leather goods.\\n\\nDespite this impressive growth, challenges remain, including infrastructure limitations, environmental concerns, and labor rights issues. The government’s Vision 2041 plan aims to modernize and diversify the industry further, positioning Bangladesh for sustainable growth through technological adoption, workforce development, and environmental compliance. With continued investment in innovation and infrastructure, the manufacturing industry in Bangladesh is poised for further expansion and evolution.\"]}"
      ]
     },
     "execution_count": 71,
     "metadata": {},
     "output_type": "execute_result"
    }
   ],
   "source": [
    "app.invoke({\"messages\": [\"tell me about bangaldesh industrial growth\"]})"
   ]
  },
  {
   "cell_type": "code",
   "execution_count": 75,
   "metadata": {},
   "outputs": [
    {
     "name": "stdout",
     "output_type": "stream",
     "text": [
      "-> Calling topic selection agent ->\n",
      "-> Calling Router agent ->\n",
      "Not Related\n",
      "-> Calling LLM agent ->\n"
     ]
    },
    {
     "data": {
      "text/plain": [
       "{'messages': ['tell me about prime minsiter of India',\n",
       "  'Not Related',\n",
       "  \"As of my last knowledge update in October 2023, the Prime Minister of India is Narendra Modi. He has been in office since May 26, 2014, after his party, the Bharatiya Janata Party (BJP), won a decisive victory in the general elections. Modi was re-elected for a second term following the 2019 general elections, where the BJP again secured a significant majority.\\n\\nNarendra Modi was born on September 17, 1950, in Vadnagar, Gujarat. Before becoming Prime Minister, he served as the Chief Minister of Gujarat from 2001 to 2014. His tenure as Prime Minister has been marked by several key initiatives, including:\\n\\n1. **Economic Reforms**: Modi's government has implemented various economic reforms aimed at boosting growth, including the Goods and Services Tax (GST) and the Make in India initiative to promote manufacturing.\\n\\n2. **Digital India**: This initiative aims to transform India into a digitally empowered society and knowledge economy, promoting digital infrastructure and services.\\n\\n3. **Swachh Bharat Abhiyan**: A nationwide campaign launched to improve sanitation and cleanliness across the country.\\n\\n4. **Healthcare Initiatives**: Programs like Ayushman Bharat aim to provide health coverage to millions of Indians.\\n\\n5. **Foreign Policy**: Modi has focused on strengthening India's relationships with various countries, enhancing India's role on the global stage.\\n\\nModi's leadership style and policies have been both praised and criticized. Supporters commend his focus on development and national security, while critics point to concerns regarding religious tensions and civil liberties.\\n\\nPlease verify with up-to-date sources, as political situations can change rapidly.\"]}"
      ]
     },
     "execution_count": 75,
     "metadata": {},
     "output_type": "execute_result"
    }
   ],
   "source": [
    "app.invoke({\"messages\": [\"tell me about prime minsiter of India\"]})"
   ]
  },
  {
   "cell_type": "code",
   "execution_count": 73,
   "metadata": {},
   "outputs": [
    {
     "data": {
      "text/plain": [
       "__main__.AgentState['messages']"
      ]
     },
     "execution_count": 73,
     "metadata": {},
     "output_type": "execute_result"
    }
   ],
   "source": [
    "AgentState[\"messages\"]   "
   ]
  },
  {
   "cell_type": "markdown",
   "metadata": {},
   "source": []
  },
  {
   "cell_type": "code",
   "execution_count": null,
   "metadata": {},
   "outputs": [],
   "source": []
  },
  {
   "cell_type": "code",
   "execution_count": null,
   "metadata": {},
   "outputs": [],
   "source": []
  },
  {
   "cell_type": "code",
   "execution_count": null,
   "metadata": {},
   "outputs": [],
   "source": []
  }
 ],
 "metadata": {
  "kernelspec": {
   "display_name": ".venv",
   "language": "python",
   "name": "python3"
  },
  "language_info": {
   "codemirror_mode": {
    "name": "ipython",
    "version": 3
   },
   "file_extension": ".py",
   "mimetype": "text/x-python",
   "name": "python",
   "nbconvert_exporter": "python",
   "pygments_lexer": "ipython3",
   "version": "3.12.4"
  }
 },
 "nbformat": 4,
 "nbformat_minor": 2
}
