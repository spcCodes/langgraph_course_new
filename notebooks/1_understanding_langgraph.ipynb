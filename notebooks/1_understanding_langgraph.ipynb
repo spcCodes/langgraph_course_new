{
 "cells": [
  {
   "cell_type": "code",
   "execution_count": 1,
   "metadata": {},
   "outputs": [
    {
     "data": {
      "text/plain": [
       "True"
      ]
     },
     "execution_count": 1,
     "metadata": {},
     "output_type": "execute_result"
    }
   ],
   "source": [
    "import os\n",
    "from dotenv import load_dotenv\n",
    "load_dotenv()"
   ]
  },
  {
   "cell_type": "code",
   "execution_count": 2,
   "metadata": {},
   "outputs": [],
   "source": [
    "from dotenv import load_dotenv\n",
    "from langchain.prompts import ChatPromptTemplate\n",
    "from langchain_openai import ChatOpenAI\n",
    "from IPython.display import Image, display"
   ]
  },
  {
   "cell_type": "code",
   "execution_count": 3,
   "metadata": {},
   "outputs": [],
   "source": [
    "model = ChatOpenAI(model=\"gpt-4.1-mini\", temperature=0)"
   ]
  },
  {
   "cell_type": "code",
   "execution_count": 4,
   "metadata": {},
   "outputs": [],
   "source": [
    "def display_graph(app):\n",
    "    # this function will display the graph of the app\n",
    "    try:\n",
    "        display(Image(app.get_graph().draw_mermaid_png()))\n",
    "    except Exception as e:\n",
    "        # This requires some extra dependencies and is optional\n",
    "        print(e)"
   ]
  },
  {
   "cell_type": "code",
   "execution_count": 5,
   "metadata": {},
   "outputs": [],
   "source": [
    "def stream_output(app, input):\n",
    "    for output in app.stream(input):\n",
    "        for key,value in output.items():\n",
    "            print(f\"here is output from {key}\")\n",
    "            print(\"_______\")\n",
    "            print(value)\n",
    "            print(\"\\n\")"
   ]
  },
  {
   "cell_type": "markdown",
   "metadata": {},
   "source": [
    "## Simple workflow in a graph"
   ]
  },
  {
   "cell_type": "code",
   "execution_count": 6,
   "metadata": {},
   "outputs": [],
   "source": [
    "def greet_user(name):\n",
    "    '''\n",
    "    This function will greet the user with a message\n",
    "    '''\n",
    "    return f\"Hello {name}!\"\n",
    "\n",
    "\n",
    "def convert_to_uppercase(input_word):\n",
    "    '''\n",
    "    This function will convert the input word to uppercase\n",
    "    '''\n",
    "    return input_word.upper()"
   ]
  },
  {
   "cell_type": "code",
   "execution_count": 10,
   "metadata": {},
   "outputs": [
    {
     "data": {
      "text/plain": [
       "'HELLO SUMAN!'"
      ]
     },
     "execution_count": 10,
     "metadata": {},
     "output_type": "execute_result"
    }
   ],
   "source": [
    "from langgraph.graph import Graph\n",
    "\n",
    "workflow = Graph()\n",
    "workflow.add_node(\"User_greetings\" , greet_user)\n",
    "workflow.add_node(\"Uppercase_converter\" , convert_to_uppercase)\n",
    "workflow.add_edge(\"User_greetings\" , \"Uppercase_converter\")\n",
    "workflow.set_entry_point(\"User_greetings\")\n",
    "workflow.set_finish_point(\"Uppercase_converter\")\n",
    "app = workflow.compile()\n",
    "\n",
    "app.invoke(\"Suman\")\n"
   ]
  },
  {
   "cell_type": "code",
   "execution_count": 11,
   "metadata": {},
   "outputs": [
    {
     "data": {
      "image/png": "[encoded data removed]",
      "text/plain": [
       "<IPython.core.display.Image object>"
      ]
     },
     "metadata": {},
     "output_type": "display_data"
    }
   ],
   "source": [
    "display_graph(app)"
   ]
  },
  {
   "cell_type": "code",
   "execution_count": 12,
   "metadata": {},
   "outputs": [
    {
     "name": "stdout",
     "output_type": "stream",
     "text": [
      "here is output from User_greetings\n",
      "_______\n",
      "Hello Suman!\n",
      "\n",
      "\n",
      "here is output from Uppercase_converter\n",
      "_______\n",
      "HELLO SUMAN!\n",
      "\n",
      "\n"
     ]
    }
   ],
   "source": [
    "stream_output(app, 'Suman')"
   ]
  },
  {
   "cell_type": "markdown",
   "metadata": {},
   "source": [
    "## Workflow using a llm and a function"
   ]
  },
  {
   "cell_type": "code",
   "execution_count": 13,
   "metadata": {},
   "outputs": [],
   "source": [
    "def response_from_llm(input_text):\n",
    "    '''\n",
    "    this function return a response from an llm\n",
    "    '''\n",
    "    response = model.invoke(input_text)\n",
    "    return response.content\n",
    "\n",
    "\n",
    "def convert_to_uppercase(input_text):\n",
    "    '''\n",
    "    this function will convert the input text to uppercase\n",
    "    '''\n",
    "    return input_text.upper()\n"
   ]
  },
  {
   "cell_type": "code",
   "execution_count": 14,
   "metadata": {},
   "outputs": [
    {
     "data": {
      "text/plain": [
       "'THE CAPITAL OF FRANCE IS PARIS.'"
      ]
     },
     "execution_count": 14,
     "metadata": {},
     "output_type": "execute_result"
    }
   ],
   "source": [
    "workflow = Graph()\n",
    "workflow.add_node(\"Get_ans_from_llm\" , response_from_llm)\n",
    "workflow.add_node(\"Convert_to_uppercase\" , convert_to_uppercase)\n",
    "workflow.add_edge(\"Get_ans_from_llm\" , \"Convert_to_uppercase\")\n",
    "workflow.set_entry_point(\"Get_ans_from_llm\")\n",
    "workflow.set_finish_point(\"Convert_to_uppercase\")\n",
    "app = workflow.compile()\n",
    "\n",
    "app.invoke(\"What is the capital of France?\")"
   ]
  },
  {
   "cell_type": "code",
   "execution_count": 15,
   "metadata": {},
   "outputs": [
    {
     "data": {
      "text/plain": [
       "'THE FIRST PRESIDENT OF THE UNITED STATES WAS GEORGE WASHINGTON.'"
      ]
     },
     "execution_count": 15,
     "metadata": {},
     "output_type": "execute_result"
    }
   ],
   "source": [
    "app.invoke(\"Who was the first president of the United States?\")"
   ]
  },
  {
   "cell_type": "markdown",
   "metadata": {},
   "source": [
    "# Integrating RAG in workflow"
   ]
  },
  {
   "cell_type": "code",
   "execution_count": 16,
   "metadata": {},
   "outputs": [],
   "source": [
    "from langchain_core.output_parsers import StrOutputParser\n",
    "from langchain_core.prompts import ChatPromptTemplate\n",
    "from langchain_core.runnables import RunnablePassthrough\n",
    "from langchain_community.document_loaders import TextLoader, DirectoryLoader\n",
    "from langchain_community.vectorstores import Chroma\n",
    "from langchain.text_splitter import RecursiveCharacterTextSplitter"
   ]
  },
  {
   "cell_type": "code",
   "execution_count": 20,
   "metadata": {},
   "outputs": [
    {
     "name": "stdout",
     "output_type": "stream",
     "text": [
      "[Document(metadata={'source': '../data/bangaldesh_manufacturing-industry.txt'}, page_content=\"# The Rise of Bangladesh's Manufacturing Industry\\n\\nBangladesh's manufacturing sector has undergone a remarkable transformation over the past few decades, emerging as a key driver of the nation's economic growth. Once primarily dependent on agriculture, Bangladesh has successfully diversified its economy, with manufacturing now contributing approximately 20% to its GDP.\\n\\nThe ready-made garment (RMG) industry stands as the cornerstone of Bangladesh's manufacturing success. Since the 1980s, Bangladesh has become the world's second-largest apparel exporter after China, employing over 4 million workers, predominantly women. This sector accounts for more than 80% of the country's export earnings, demonstrating its crucial economic significance.\\n\\nSeveral factors have fueled this industrial expansion. Low labor costs provided Bangladesh with a competitive advantage in labor-intensive manufacturing. Strategic government policies, including export processing zones, tax incentives, and preferential trade agreements, have attracted significant foreign direct investment. Additionally, improved infrastructure, particularly in power generation and transportation, has enhanced production capabilities.\\n\\nBeyond garments, Bangladesh has achieved diversification into pharmaceuticals, shipbuilding, electronics, and leather goods. The pharmaceutical industry has grown substantially, now meeting 98% of domestic demand while expanding exports to nearly 150 countries. Meanwhile, the shipbuilding sector has gained international recognition for quality small and medium-sized vessels.\\n\\nDespite impressive growth, challenges persist. Infrastructure limitations, particularly unreliable electricity supply and inadequate transportation networks, continue to hamper productivity. Environmental concerns have intensified as industrial expansion often outpaces regulatory oversight. Labor rights and workplace safety remain significant issues, especially following the 2013 Rana Plaza tragedy which prompted industry-wide reforms.\\n\\nLooking ahead, Bangladesh's manufacturing sector is positioning itself for sustainable growth through technological adoption, workforce development, and environmental compliance. The government's Vision 2041 plan emphasizes industrial modernization and diversification, aiming to elevate Bangladesh to developed nation status. With continued investment in innovation, skills development, and infrastructure, Bangladesh's manufacturing industry appears poised for continued expansion and evolution.\\n\")]\n"
     ]
    }
   ],
   "source": [
    "loader=DirectoryLoader(\"../data\",glob=\"./*.txt\",loader_cls=TextLoader)\n",
    "docs=loader.load()\n",
    "print(docs)\n",
    "text_splitter=RecursiveCharacterTextSplitter(\n",
    "    chunk_size=1000,\n",
    "    chunk_overlap=200,\n",
    "    length_function = len\n",
    ")\n",
    "new_docs = text_splitter.split_documents(documents=docs)\n",
    "doc_strings = [doc.page_content for doc in new_docs]"
   ]
  },
  {
   "cell_type": "code",
   "execution_count": 19,
   "metadata": {},
   "outputs": [
    {
     "data": {
      "text/plain": [
       "[\"# The Rise of Bangladesh's Manufacturing Industry\\n\\nBangladesh's manufacturing sector has undergone a remarkable transformation over the past few decades, emerging as a key driver of the nation's economic growth. Once primarily dependent on agriculture, Bangladesh has successfully diversified its economy, with manufacturing now contributing approximately 20% to its GDP.\\n\\nThe ready-made garment (RMG) industry stands as the cornerstone of Bangladesh's manufacturing success. Since the 1980s, Bangladesh has become the world's second-largest apparel exporter after China, employing over 4 million workers, predominantly women. This sector accounts for more than 80% of the country's export earnings, demonstrating its crucial economic significance.\",\n",
       " 'Several factors have fueled this industrial expansion. Low labor costs provided Bangladesh with a competitive advantage in labor-intensive manufacturing. Strategic government policies, including export processing zones, tax incentives, and preferential trade agreements, have attracted significant foreign direct investment. Additionally, improved infrastructure, particularly in power generation and transportation, has enhanced production capabilities.\\n\\nBeyond garments, Bangladesh has achieved diversification into pharmaceuticals, shipbuilding, electronics, and leather goods. The pharmaceutical industry has grown substantially, now meeting 98% of domestic demand while expanding exports to nearly 150 countries. Meanwhile, the shipbuilding sector has gained international recognition for quality small and medium-sized vessels.',\n",
       " \"Despite impressive growth, challenges persist. Infrastructure limitations, particularly unreliable electricity supply and inadequate transportation networks, continue to hamper productivity. Environmental concerns have intensified as industrial expansion often outpaces regulatory oversight. Labor rights and workplace safety remain significant issues, especially following the 2013 Rana Plaza tragedy which prompted industry-wide reforms.\\n\\nLooking ahead, Bangladesh's manufacturing sector is positioning itself for sustainable growth through technological adoption, workforce development, and environmental compliance. The government's Vision 2041 plan emphasizes industrial modernization and diversification, aiming to elevate Bangladesh to developed nation status. With continued investment in innovation, skills development, and infrastructure, Bangladesh's manufacturing industry appears poised for continued expansion and evolution.\"]"
      ]
     },
     "execution_count": 19,
     "metadata": {},
     "output_type": "execute_result"
    }
   ],
   "source": [
    "doc_strings"
   ]
  },
  {
   "cell_type": "code",
   "execution_count": 21,
   "metadata": {},
   "outputs": [],
   "source": [
    "from langchain_openai import OpenAIEmbeddings\n",
    "embeddings = OpenAIEmbeddings()\n",
    "db = Chroma.from_documents(new_docs, embeddings)\n",
    "retriever = db.as_retriever(search_kwargs={\"k\": 3})"
   ]
  },
  {
   "cell_type": "code",
   "execution_count": 22,
   "metadata": {},
   "outputs": [
    {
     "name": "stderr",
     "output_type": "stream",
     "text": [
      "/var/folders/wt/k9xk77m14_scry8y3ldyfjr00000gn/T/ipykernel_60010/1315298168.py:1: LangChainDeprecationWarning: The method `BaseRetriever.get_relevant_documents` was deprecated in langchain-core 0.1.46 and will be removed in 1.0. Use :meth:`~invoke` instead.\n",
      "  retriever.get_relevant_documents(\"tell me about bangaldesh industrial growth\")\n"
     ]
    },
    {
     "data": {
      "text/plain": [
       "[Document(metadata={'source': '../data/bangaldesh_manufacturing-industry.txt'}, page_content=\"Despite impressive growth, challenges persist. Infrastructure limitations, particularly unreliable electricity supply and inadequate transportation networks, continue to hamper productivity. Environmental concerns have intensified as industrial expansion often outpaces regulatory oversight. Labor rights and workplace safety remain significant issues, especially following the 2013 Rana Plaza tragedy which prompted industry-wide reforms.\\n\\nLooking ahead, Bangladesh's manufacturing sector is positioning itself for sustainable growth through technological adoption, workforce development, and environmental compliance. The government's Vision 2041 plan emphasizes industrial modernization and diversification, aiming to elevate Bangladesh to developed nation status. With continued investment in innovation, skills development, and infrastructure, Bangladesh's manufacturing industry appears poised for continued expansion and evolution.\"),\n",
       " Document(metadata={'source': '../data/bangaldesh_manufacturing-industry.txt'}, page_content='Several factors have fueled this industrial expansion. Low labor costs provided Bangladesh with a competitive advantage in labor-intensive manufacturing. Strategic government policies, including export processing zones, tax incentives, and preferential trade agreements, have attracted significant foreign direct investment. Additionally, improved infrastructure, particularly in power generation and transportation, has enhanced production capabilities.\\n\\nBeyond garments, Bangladesh has achieved diversification into pharmaceuticals, shipbuilding, electronics, and leather goods. The pharmaceutical industry has grown substantially, now meeting 98% of domestic demand while expanding exports to nearly 150 countries. Meanwhile, the shipbuilding sector has gained international recognition for quality small and medium-sized vessels.'),\n",
       " Document(metadata={'source': '../data/bangaldesh_manufacturing-industry.txt'}, page_content=\"# The Rise of Bangladesh's Manufacturing Industry\\n\\nBangladesh's manufacturing sector has undergone a remarkable transformation over the past few decades, emerging as a key driver of the nation's economic growth. Once primarily dependent on agriculture, Bangladesh has successfully diversified its economy, with manufacturing now contributing approximately 20% to its GDP.\\n\\nThe ready-made garment (RMG) industry stands as the cornerstone of Bangladesh's manufacturing success. Since the 1980s, Bangladesh has become the world's second-largest apparel exporter after China, employing over 4 million workers, predominantly women. This sector accounts for more than 80% of the country's export earnings, demonstrating its crucial economic significance.\")]"
      ]
     },
     "execution_count": 22,
     "metadata": {},
     "output_type": "execute_result"
    }
   ],
   "source": [
    "retriever.get_relevant_documents(\"tell me about bangaldesh industrial growth\")"
   ]
  },
  {
   "cell_type": "code",
   "execution_count": 27,
   "metadata": {},
   "outputs": [],
   "source": [
    "from langchain_core.output_parsers import StrOutputParser\n",
    "from langchain_core.prompts import ChatPromptTemplate\n",
    "from langchain_core.runnables import RunnablePassthrough , RunnableParallel\n",
    "from langchain.chains import RetrievalQA"
   ]
  },
  {
   "cell_type": "code",
   "execution_count": 28,
   "metadata": {},
   "outputs": [],
   "source": [
    "AgentState ={}\n",
    "AgentState[\"messages\"] = []\n",
    "\n",
    "\n",
    "def extract_topics(state):\n",
    "    messages = state['messages']  ##asssuming state is a dict with messages key\n",
    "    question = messages[-1]   ## Fetching the user question\n",
    "    complete_query = \"Your task is to extract topic from the following query . If the extracted topic is two words or more, the topic should be in the form of 'word1_word2' . If the extracted topic is one word, the topic should be in the form of 'word1' . Following is the user query: \" + question\n",
    "    response = model.invoke(complete_query)\n",
    "    state['messages'].append(response.content)\n",
    "    return state\n",
    "\n",
    "def call_rag(state):\n",
    "    messages = state['messages']\n",
    "    question = messages[0] ## Fetching the user question\n",
    "\n",
    "    template = \"\"\"Answer the question based only on the following context:\n",
    "    {context}\n",
    "    Donot answer anything out of the context, if you dont find the answer in the context, then say \"I don't know\"\n",
    "    Question: {question}\n",
    "    \"\"\"\n",
    "    \n",
    "    prompt = ChatPromptTemplate.from_template(template)\n",
    "\n",
    "    retrieval_chain = (\n",
    "        RunnableParallel({\"context\": retriever, \"question\": RunnablePassthrough()})\n",
    "        | prompt\n",
    "        | model\n",
    "        | StrOutputParser()\n",
    "        )\n",
    "    result = retrieval_chain.invoke(question)\n",
    "    return result\n"
   ]
  },
  {
   "cell_type": "code",
   "execution_count": 30,
   "metadata": {},
   "outputs": [],
   "source": [
    "workflow = Graph()\n",
    "\n",
    "workflow.add_node(\"Extract_topics\", extract_topics)\n",
    "workflow.add_node(\"RAG_call\", call_rag)\n",
    "\n",
    "workflow.add_edge('Extract_topics', 'RAG_call')\n",
    "\n",
    "workflow.set_entry_point(\"Extract_topics\")\n",
    "workflow.set_finish_point(\"RAG_call\")\n",
    "\n",
    "app = workflow.compile()"
   ]
  },
  {
   "cell_type": "code",
   "execution_count": 31,
   "metadata": {},
   "outputs": [
    {
     "data": {
      "image/png": "[encoded data removed]",
      "text/plain": [
       "<IPython.core.display.Image object>"
      ]
     },
     "metadata": {},
     "output_type": "display_data"
    }
   ],
   "source": [
    "display_graph(app)"
   ]
  },
  {
   "cell_type": "code",
   "execution_count": 32,
   "metadata": {},
   "outputs": [
    {
     "name": "stdout",
     "output_type": "stream",
     "text": [
      "Bangladesh's manufacturing sector has experienced remarkable growth over the past few decades, transforming from an agriculture-dependent economy to one where manufacturing contributes about 20% to GDP. The ready-made garment (RMG) industry is central to this success, making Bangladesh the world's second-largest apparel exporter after China and employing over 4 million workers, mostly women. This sector accounts for more than 80% of the country's export earnings.\n",
      "\n",
      "Several factors have fueled this industrial expansion, including low labor costs, strategic government policies such as export processing zones, tax incentives, and preferential trade agreements that have attracted significant foreign direct investment. Improved infrastructure in power generation and transportation has also enhanced production capabilities.\n",
      "\n",
      "Beyond garments, Bangladesh has diversified into pharmaceuticals, shipbuilding, electronics, and leather goods. The pharmaceutical industry now meets 98% of domestic demand and exports to nearly 150 countries, while the shipbuilding sector has gained international recognition for quality vessels.\n",
      "\n",
      "Despite impressive growth, challenges remain, including infrastructure limitations like unreliable electricity and inadequate transportation, environmental concerns due to rapid industrial expansion, and ongoing labor rights and workplace safety issues, especially after the 2013 Rana Plaza tragedy. Looking ahead, Bangladesh aims for sustainable growth through technological adoption, workforce development, environmental compliance, and industrial modernization as outlined in the government's Vision 2041 plan.\n"
     ]
    }
   ],
   "source": [
    "print(app.invoke({\"messages\": [\"tell me about bangaldesh industrial growth\"]}))"
   ]
  },
  {
   "cell_type": "code",
   "execution_count": 33,
   "metadata": {},
   "outputs": [
    {
     "name": "stdout",
     "output_type": "stream",
     "text": [
      "here is output from Extract_topics\n",
      "_______\n",
      "{'messages': ['tell me about bangaldesh industrial growth', 'bangladesh_industrial_growth']}\n",
      "\n",
      "\n",
      "here is output from RAG_call\n",
      "_______\n",
      "Bangladesh's manufacturing sector has experienced remarkable growth over the past few decades, transforming from an agriculture-dependent economy to one where manufacturing contributes about 20% to GDP. The ready-made garment (RMG) industry is central to this success, making Bangladesh the world's second-largest apparel exporter after China and employing over 4 million workers, mostly women. This sector accounts for more than 80% of the country's export earnings.\n",
      "\n",
      "Several factors have fueled this industrial expansion, including low labor costs, strategic government policies such as export processing zones, tax incentives, and preferential trade agreements that attract foreign direct investment. Improved infrastructure in power generation and transportation has also enhanced production capabilities. Beyond garments, Bangladesh has diversified into pharmaceuticals, shipbuilding, electronics, and leather goods, with the pharmaceutical industry meeting 98% of domestic demand and exporting to nearly 150 countries, and the shipbuilding sector gaining international recognition.\n",
      "\n",
      "Despite impressive growth, challenges remain, including infrastructure limitations like unreliable electricity and inadequate transportation, environmental concerns due to rapid industrial expansion, and ongoing labor rights and workplace safety issues, especially after the 2013 Rana Plaza tragedy. Looking forward, Bangladesh aims for sustainable growth through technological adoption, workforce development, environmental compliance, and industrial modernization as outlined in the government's Vision 2041 plan, positioning the country for continued expansion and evolution.\n",
      "\n",
      "\n"
     ]
    }
   ],
   "source": [
    "stream_output(app, {\"messages\": [\"tell me about bangaldesh industrial growth\"]})"
   ]
  },
  {
   "cell_type": "markdown",
   "metadata": {},
   "source": [
    "### Pydantic use case"
   ]
  },
  {
   "cell_type": "code",
   "execution_count": null,
   "metadata": {},
   "outputs": [],
   "source": [
    "import os \n",
    "from dotenv import load_dotenv\n",
    "load_dotenv()\n",
    "\n",
    "from langgraph.graph import StateGraph , START , END\n",
    "from langgraph.graph.message import add_messages\n",
    "from langchain_openai import ChatOpenAI\n",
    "from langchain_core.messages import HumanMessage , AIMessage , SystemMessage\n",
    "from typing import TypedDict , Annotated\n",
    "from pydantic import BaseModel , Field\n",
    "\n",
    "#define the state\n",
    "class GraphState(TypedDict):\n",
    "    messages : Annotated[list, add_messages]\n",
    "    quality_score : Annotated[int, None]\n",
    "    num_words : Annotated[int, None]\n",
    "\n",
    "model = ChatOpenAI(model=\"gpt-4.1-mini\", temperature=0 , max_completion_tokens=500)\n",
    "\n",
    "class GenerateCode(BaseModel):\n",
    "    \"\"\" \n",
    "    Extract the generated code and the num of words in the code\n",
    "    \"\"\"\n",
    "    code : str = Field(description=\"Generated software code\")\n",
    "    num_words : int = Field(description=\"Number of words in the generated code\")\n",
    "\n",
    "class EvaluateCode(BaseModel):\n",
    "    \"\"\"\n",
    "    Evaluate the generated code and return the quality score and comments\n",
    "    \"\"\"\n",
    "    comments : str = Field(description=\"Comments on the quality score\")\n",
    "    quality_score : int = Field(description=\"Quality score of the generated code between 0 and 100\")\n",
    "\n",
    "developer_structured_llm = model.with_structured_output(GenerateCode)\n",
    "evaluator_structured_llm = model.with_structured_output(EvaluateCode)\n",
    "\n",
    "\n",
    "# nodes definition\n",
    "\n",
    "#set the initial state\n",
    "def init(state):\n",
    "    print(\"----------- Init node ------------\")\n",
    "    print(\"State: \", state)\n",
    "    return {\n",
    "        \"messages\": [] , \n",
    "        \"quality_score\": 0 , \n",
    "        \"num_words\": 0\n",
    "    }\n",
    "\n",
    "#create a developer node \n",
    "def generate_code(state):\n",
    "    print(\"----------- Generate code node ------------\")\n",
    "    system_prompt = \"\"\"You are a software developer. You are given a task to generate a software code.\n",
    "    You will be given a task and you will need to generate a software code for the task.\n",
    "    Respond in json format with the following keys:\n",
    "    code: The generated software code\n",
    "    num_words: The number of words in the generated code\n",
    "    \"\"\"\n",
    "\n",
    "    human_message  = [msg for msg in state[\"messages\"] if isinstance(msg, HumanMessage)]\n",
    "    ai_message = [msg for msg in state[\"messages\"] if isinstance(msg, AIMessage)]\n",
    "    system_message = [SystemMessage(content=system_prompt)]\n",
    "    messages = system_message + ai_message + human_message\n",
    "\n",
    "    developer_output = developer_structured_llm.invoke(messages)\n",
    "\n",
    "    print(\"Code generated by developer: \", developer_output.code)\n",
    "\n",
    "    print(\"--------------- developer output ---------------\")\n",
    "\n",
    "    return {\n",
    "        \"messages\": [developer_output.code] , \n",
    "        \"num_words\": developer_output.num_words\n",
    "    }\n",
    "\n",
    "\n",
    "def evaluate_code(state):\n",
    "    print(\"----------- Evaluate code node ------------\")\n",
    "    system_prompt = \"\"\"\n",
    "    You are a high standard code reviewer. You will be given a code and you will need to evaluate the code and return the quality score and comments.\n",
    "    The quality score should be between 0 and 100.\n",
    "    Assess the structure , code quality and documentation of the code.\n",
    "    Respond in json format with the following keys:\n",
    "    comments: Comments on the quality score\n",
    "    quality_score: Quality score of the generated code between 0 and 100\n",
    "    \"\"\"\n",
    "\n",
    "    human_message  = [msg for msg in state[\"messages\"] if isinstance(msg, HumanMessage)]\n",
    "    ai_message = [msg for msg in state[\"messages\"] if isinstance(msg, AIMessage)]\n",
    "    system_message = [SystemMessage(content=system_prompt)]\n",
    "    messages = system_message + ai_message + human_message\n",
    "\n",
    "    evaluator_output = evaluator_structured_llm.invoke(messages)\n",
    "\n",
    "    print(\"Code evaluated by evaluator: \", evaluator_output.comments)\n",
    "    print(\"--------------- evaluator output ---------------\")\n",
    "\n",
    "    return {\n",
    "        \"comments\": [evaluator_output.comments] , \n",
    "        \"quality_score\": evaluator_output.quality_score\n",
    "    }\n",
    "\n",
    "def summary(state):\n",
    "    print(\"----------- Summary node ------------\")\n",
    "    print(\"Summary: \", state)\n",
    "    return state\n",
    "\n",
    "\n",
    "workflow = StateGraph(GraphState)\n",
    "workflow.add_node(\"init\" , init)\n",
    "workflow.add_node(\"generate_code\" , generate_code)\n",
    "workflow.add_node(\"evaluate_code\" , evaluate_code)\n",
    "workflow.add_node(\"summary\" , summary)\n",
    "workflow.add_edge(START , \"init\")\n",
    "workflow.add_edge(\"init\" , \"generate_code\")\n",
    "workflow.add_edge(\"generate_code\" , \"evaluate_code\")\n",
    "workflow.add_edge(\"evaluate_code\" , \"summary\")\n",
    "workflow.add_edge(\"summary\" , END)\n",
    "app = workflow.compile()\n",
    "\n",
    "\n",
    "if __name__ == \"__main__\":\n",
    "\n",
    "    while True:\n",
    "        user_input = input(\"Enter your coding task: \")\n",
    "        if user_input.lower() == \"exit\":\n",
    "            break\n",
    "        result = app.invoke({\"messages\": [HumanMessage(content=user_input)]})"
   ]
  },
  {
   "cell_type": "markdown",
   "metadata": {},
   "source": [
    "## Rag + AgentState + conditional edges"
   ]
  },
  {
   "cell_type": "code",
   "execution_count": 29,
   "metadata": {},
   "outputs": [],
   "source": [
    "from typing import TypedDict, Annotated, Sequence\n",
    "import operator\n",
    "from langchain_core.messages import BaseMessage\n",
    "from langgraph.graph import StateGraph , START , END\n",
    "from langgraph.graph.message import add_messages\n",
    "from langchain_openai import ChatOpenAI\n",
    "from langchain_core.messages import HumanMessage , AIMessage , SystemMessage\n",
    "from typing import TypedDict , Annotated\n",
    "from pydantic import BaseModel , Field"
   ]
  },
  {
   "cell_type": "code",
   "execution_count": 56,
   "metadata": {},
   "outputs": [],
   "source": [
    "class GraphState(TypedDict):\n",
    "    topic : Annotated[str, None]\n",
    "    llm_response : Annotated[str, None]\n",
    "    rag_response : Annotated[str, None]\n",
    "    messages : Annotated[list, add_messages]\n",
    "\n"
   ]
  },
  {
   "cell_type": "code",
   "execution_count": 58,
   "metadata": {},
   "outputs": [],
   "source": [
    "from langchain.output_parsers import PydanticOutputParser\n",
    "from pydantic import BaseModel , Field\n",
    "from langchain.prompts import PromptTemplate\n",
    "\n",
    "class TopicSelector(BaseModel):\n",
    "    \"\"\"\n",
    "    you have to extract the topic from the user query.\n",
    "    \"\"\"\n",
    "    topic : str = Field(description=\"The topic of the user query\")\n",
    "\n",
    "topic_extracction_llm = model.with_structured_output(TopicSelector)\n",
    "\n",
    "class RAGResponse(BaseModel):\n",
    "    \"\"\"\n",
    "    You have to provide response from the RAG agent.\n",
    "    \"\"\"\n",
    "    rag_response : str = Field(description=\"The response from the RAG agent\")\n",
    "\n",
    "rag_structured_llm = model.with_structured_output(RAGResponse)\n",
    "\n",
    "\n",
    "class LLMResponse(BaseModel):\n",
    "    \"\"\"\n",
    "    You have to call the LLM agent.\n",
    "    \"\"\"\n",
    "    llm_response : str = Field(description=\"The response from the LLM agent\")\n",
    "\n",
    "structured_llm = model.with_structured_output(LLMResponse)\n",
    "\n",
    "\n",
    "topic_parser = PydanticOutputParser(pydantic_object=TopicSelector)\n",
    "rag_parser = PydanticOutputParser(pydantic_object=RAGResponse)\n",
    "llm_parser = PydanticOutputParser(pydantic_object=LLMResponse)\n",
    "\n"
   ]
  },
  {
   "cell_type": "code",
   "execution_count": 59,
   "metadata": {},
   "outputs": [],
   "source": [
    "def extract_topic(state):\n",
    "    print('-> Calling topic extraction agent ->')\n",
    "\n",
    "    topic_extraction_system_prompt = \"\"\"\n",
    "    You are a topic extraction agent. You will be given a user query and you will need to extract the topic of the user query.\n",
    "    the topic may be related to Bangladesh or non Bangladesh related.\n",
    "    \n",
    "\n",
    "    Respond in json format with the following keys:\n",
    "    \n",
    "    topic: The topic of the user query.if the topic is related to Bangladesh, then output 'Bangladesh' else output 'Not Related'.\n",
    "\n",
    "    \"\"\"\n",
    "\n",
    "    human_message = [msg for msg in state[\"messages\"] if isinstance(msg, HumanMessage)]\n",
    "    ai_message = [msg for msg in state[\"messages\"] if isinstance(msg, AIMessage)]\n",
    "    system_message = [SystemMessage(content=topic_extraction_system_prompt)]\n",
    "\n",
    "    messages = system_message + ai_message + human_message\n",
    "    \n",
    "    \n",
    "    topic_response = topic_extracction_llm.invoke(messages)\n",
    "\n",
    "    return {\n",
    "        \"messages\": [topic_response.topic],\n",
    "        \"topic\": topic_response.topic\n",
    "    }\n",
    "\n",
    "\n",
    "def call_rag(state):\n",
    "    messages = state['messages']\n",
    "    question = messages[0] ## Fetching the user question\n",
    "\n",
    "    template = \"\"\"Answer the question based only on the following context:\n",
    "    {context}\n",
    "    Donot answer anything out of the context, if you dont find the answer in the context, then say \"I don't know\"\n",
    "    Question: {question}\n",
    "    \"\"\"\n",
    "    \n",
    "    prompt = ChatPromptTemplate.from_template(template)\n",
    "\n",
    "    retrieval_chain = (\n",
    "        RunnableParallel({\"context\": retriever, \"question\": RunnablePassthrough()})\n",
    "        | prompt\n",
    "        | model\n",
    "        | rag_structured_llm\n",
    "        )\n",
    "    result = retrieval_chain.invoke(question)\n",
    "    return {\n",
    "        \"messages\": [result.rag_response],\n",
    "        \"rag_response\": result.rag_response\n",
    "    }\n",
    "    \n",
    "\n",
    "def call_llm(state):\n",
    "    print('-> Calling LLM agent ->')\n",
    "    messages = state['messages']\n",
    "    question = messages[0]\n",
    "\n",
    "    calling_llm_system_prompt = \"\"\"\n",
    "    You are a helpful assistant that can answer questions about the user query.\n",
    "    follwoing is the user question \n",
    "    {question}\n",
    "    \"\"\"\n",
    "\n",
    "    human_message = [msg for msg in state[\"messages\"] if isinstance(msg, HumanMessage)]\n",
    "    ai_message = [msg for msg in state[\"messages\"] if isinstance(msg, AIMessage)]\n",
    "    system_message = [SystemMessage(content=calling_llm_system_prompt)]\n",
    "    messages = system_message + ai_message + human_message\n",
    "\n",
    "    llm_structured_response = structured_llm.invoke(messages)\n",
    "\n",
    "    return {\n",
    "        \"messages\": [llm_structured_response.llm_response],\n",
    "        \"llm_response\": llm_structured_response.llm_response\n",
    "    }\n",
    "    \n",
    "def router(state):\n",
    "    print('-> Calling Router agent ->')\n",
    "    messages = state['messages']\n",
    "    last_message = messages[-1]\n",
    "    if 'Bangladesh' in last_message or 'bangaldesh' in last_message:\n",
    "        return 'RAG_call'\n",
    "    else:\n",
    "        return 'LLM_call'\n"
   ]
  },
  {
   "cell_type": "code",
   "execution_count": 61,
   "metadata": {},
   "outputs": [
    {
     "name": "stdout",
     "output_type": "stream",
     "text": [
      "-> Calling topic extraction agent ->\n",
      "-> Calling Router agent ->\n",
      "-> Calling LLM agent ->\n",
      "Bangladesh\n",
      "-> Calling topic extraction agent ->\n",
      "-> Calling Router agent ->\n",
      "-> Calling LLM agent ->\n",
      "Not Related\n",
      "-> Calling topic extraction agent ->\n",
      "-> Calling Router agent ->\n",
      "-> Calling LLM agent ->\n",
      "Not Related\n"
     ]
    }
   ],
   "source": [
    "from langgraph.graph import StateGraph , START , END\n",
    "\n",
    "workflow = StateGraph(GraphState)\n",
    "workflow.add_node(\"topic_extraction\" , extract_topic)\n",
    "workflow.add_node(\"RAG\" , call_rag)\n",
    "workflow.add_node(\"LLM\" , call_llm)\n",
    "workflow.add_edge(START , \"topic_extraction\")\n",
    "workflow.add_conditional_edges(\"topic_extraction\" ,\n",
    "                               router,\n",
    "                               {\n",
    "                                   \"RAG_call\" : \"RAG\",\n",
    "                                   \"LLM_call\" : \"LLM\"\n",
    "                               }\n",
    "                               )\n",
    "workflow.add_edge(\"RAG\" , END)\n",
    "workflow.add_edge(\"LLM\" , END)\n",
    "app = workflow.compile()\n",
    "\n",
    "if __name__ == \"__main__\":\n",
    "    while True:\n",
    "        user_input = input(\"Enter your question: \")\n",
    "        if user_input.lower() == \"exit\":\n",
    "            break\n",
    "        result = app.invoke({\"messages\": [HumanMessage(content=user_input)]})\n",
    "        print(result[\"topic\"])"
   ]
  },
  {
   "cell_type": "code",
   "execution_count": 35,
   "metadata": {},
   "outputs": [
    {
     "data": {
      "image/png": "[encoded data removed]",
      "text/plain": [
       "<IPython.core.display.Image object>"
      ]
     },
     "metadata": {},
     "output_type": "display_data"
    }
   ],
   "source": [
    "display_graph(app)"
   ]
  },
  {
   "cell_type": "code",
   "execution_count": 71,
   "metadata": {},
   "outputs": [
    {
     "name": "stdout",
     "output_type": "stream",
     "text": [
      "-> Calling topic selection agent ->\n",
      "-> Calling Router agent ->\n",
      "Bangaldesh\n",
      "-> Calling RAG agent ->\n"
     ]
    },
    {
     "data": {
      "text/plain": [
       "{'messages': ['tell me about bangaldesh industrial growth',\n",
       "  'Bangaldesh',\n",
       "  \"Bangladesh's manufacturing sector has experienced significant growth over the past few decades, transforming from an economy primarily reliant on agriculture to one where manufacturing contributes approximately 20% to its GDP. The ready-made garment (RMG) industry is a key component of this success, making Bangladesh the world's second-largest apparel exporter after China and employing over 4 million workers, mostly women. This sector accounts for more than 80% of the country's export earnings.\\n\\nSeveral factors have fueled this industrial expansion, including low labor costs, strategic government policies such as export processing zones and tax incentives, and improved infrastructure in power generation and transportation. Additionally, Bangladesh has diversified its manufacturing beyond garments into sectors like pharmaceuticals, shipbuilding, electronics, and leather goods.\\n\\nDespite this impressive growth, challenges remain, including infrastructure limitations, environmental concerns, and labor rights issues. The government’s Vision 2041 plan aims to modernize and diversify the industry further, positioning Bangladesh for sustainable growth through technological adoption, workforce development, and environmental compliance. With continued investment in innovation and infrastructure, the manufacturing industry in Bangladesh is poised for further expansion and evolution.\"]}"
      ]
     },
     "execution_count": 71,
     "metadata": {},
     "output_type": "execute_result"
    }
   ],
   "source": [
    "app.invoke({\"messages\": [\"tell me about bangaldesh industrial growth\"]})"
   ]
  },
  {
   "cell_type": "code",
   "execution_count": 75,
   "metadata": {},
   "outputs": [
    {
     "name": "stdout",
     "output_type": "stream",
     "text": [
      "-> Calling topic selection agent ->\n",
      "-> Calling Router agent ->\n",
      "Not Related\n",
      "-> Calling LLM agent ->\n"
     ]
    },
    {
     "data": {
      "text/plain": [
       "{'messages': ['tell me about prime minsiter of India',\n",
       "  'Not Related',\n",
       "  \"As of my last knowledge update in October 2023, the Prime Minister of India is Narendra Modi. He has been in office since May 26, 2014, after his party, the Bharatiya Janata Party (BJP), won a decisive victory in the general elections. Modi was re-elected for a second term following the 2019 general elections, where the BJP again secured a significant majority.\\n\\nNarendra Modi was born on September 17, 1950, in Vadnagar, Gujarat. Before becoming Prime Minister, he served as the Chief Minister of Gujarat from 2001 to 2014. His tenure as Prime Minister has been marked by several key initiatives, including:\\n\\n1. **Economic Reforms**: Modi's government has implemented various economic reforms aimed at boosting growth, including the Goods and Services Tax (GST) and the Make in India initiative to promote manufacturing.\\n\\n2. **Digital India**: This initiative aims to transform India into a digitally empowered society and knowledge economy, promoting digital infrastructure and services.\\n\\n3. **Swachh Bharat Abhiyan**: A nationwide campaign launched to improve sanitation and cleanliness across the country.\\n\\n4. **Healthcare Initiatives**: Programs like Ayushman Bharat aim to provide health coverage to millions of Indians.\\n\\n5. **Foreign Policy**: Modi has focused on strengthening India's relationships with various countries, enhancing India's role on the global stage.\\n\\nModi's leadership style and policies have been both praised and criticized. Supporters commend his focus on development and national security, while critics point to concerns regarding religious tensions and civil liberties.\\n\\nPlease verify with up-to-date sources, as political situations can change rapidly.\"]}"
      ]
     },
     "execution_count": 75,
     "metadata": {},
     "output_type": "execute_result"
    }
   ],
   "source": [
    "app.invoke({\"messages\": [\"tell me about prime minsiter of India\"]})"
   ]
  },
  {
   "cell_type": "code",
   "execution_count": 73,
   "metadata": {},
   "outputs": [
    {
     "data": {
      "text/plain": [
       "__main__.AgentState['messages']"
      ]
     },
     "execution_count": 73,
     "metadata": {},
     "output_type": "execute_result"
    }
   ],
   "source": [
    "AgentState[\"messages\"]   "
   ]
  },
  {
   "cell_type": "markdown",
   "metadata": {},
   "source": []
  },
  {
   "cell_type": "code",
   "execution_count": null,
   "metadata": {},
   "outputs": [],
   "source": []
  },
  {
   "cell_type": "code",
   "execution_count": null,
   "metadata": {},
   "outputs": [],
   "source": []
  },
  {
   "cell_type": "code",
   "execution_count": null,
   "metadata": {},
   "outputs": [],
   "source": []
  }
 ],
 "metadata": {
  "kernelspec": {
   "display_name": ".venv",
   "language": "python",
   "name": "python3"
  },
  "language_info": {
   "codemirror_mode": {
    "name": "ipython",
    "version": 3
   },
   "file_extension": ".py",
   "mimetype": "text/x-python",
   "name": "python",
   "nbconvert_exporter": "python",
   "pygments_lexer": "ipython3",
   "version": "3.12.4"
  }
 },
 "nbformat": 4,
 "nbformat_minor": 2
}
